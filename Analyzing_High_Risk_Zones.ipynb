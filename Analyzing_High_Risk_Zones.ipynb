{
 "cells": [
  {
   "cell_type": "code",
   "execution_count": 2,
   "metadata": {},
   "outputs": [],
   "source": [
    "import numpy as np\n",
    "import pandas as pd\n",
    "from matplotlib import pyplot as plt\n",
    "import geopandas as gpd\n",
    "%matplotlib inline\n",
    "\n",
    "pd.set_option(\"max_rows\",100)"
   ]
  },
  {
   "cell_type": "code",
   "execution_count": 3,
   "metadata": {},
   "outputs": [],
   "source": [
    "# Filepath to read Crash Data shapefile\n",
    "filepath_crash_data = \"NYC Crash Data - Cashmapper/cartodb-query.shp\"\n",
    "filepath_nyc_boundaries = \"Borough Boundaries/geo_export_df017658-06e6-4fbf-8be1-4070c446823f.shp\""
   ]
  },
  {
   "cell_type": "code",
   "execution_count": 4,
   "metadata": {},
   "outputs": [],
   "source": [
    "Crash_data_gdf = gpd.read_file(filepath_crash_data)\n",
    "NYC_gdf = gpd.read_file(filepath_nyc_boundaries)"
   ]
  },
  {
   "cell_type": "code",
   "execution_count": 5,
   "metadata": {},
   "outputs": [
    {
     "data": {
      "text/plain": [
       "(38877, 21)"
      ]
     },
     "execution_count": 5,
     "metadata": {},
     "output_type": "execute_result"
    }
   ],
   "source": [
    "Crash_data_gdf.shape"
   ]
  },
  {
   "cell_type": "code",
   "execution_count": 6,
   "metadata": {},
   "outputs": [
    {
     "data": {
      "text/html": [
       "<div>\n",
       "<style scoped>\n",
       "    .dataframe tbody tr th:only-of-type {\n",
       "        vertical-align: middle;\n",
       "    }\n",
       "\n",
       "    .dataframe tbody tr th {\n",
       "        vertical-align: top;\n",
       "    }\n",
       "\n",
       "    .dataframe thead th {\n",
       "        text-align: right;\n",
       "    }\n",
       "</style>\n",
       "<table border=\"1\" class=\"dataframe\">\n",
       "  <thead>\n",
       "    <tr style=\"text-align: right;\">\n",
       "      <th></th>\n",
       "      <th>cartodb_id</th>\n",
       "      <th>socrata_id</th>\n",
       "      <th>on_street_</th>\n",
       "      <th>cross_stre</th>\n",
       "      <th>date_time</th>\n",
       "      <th>latitude</th>\n",
       "      <th>longitude</th>\n",
       "      <th>borough</th>\n",
       "      <th>zip_code</th>\n",
       "      <th>crash_coun</th>\n",
       "      <th>...</th>\n",
       "      <th>number_o_1</th>\n",
       "      <th>number_o_2</th>\n",
       "      <th>number_o_3</th>\n",
       "      <th>number_o_4</th>\n",
       "      <th>number_o_5</th>\n",
       "      <th>number_o_6</th>\n",
       "      <th>number_o_7</th>\n",
       "      <th>contributi</th>\n",
       "      <th>vehicle_ty</th>\n",
       "      <th>geometry</th>\n",
       "    </tr>\n",
       "  </thead>\n",
       "  <tbody>\n",
       "    <tr>\n",
       "      <th>0</th>\n",
       "      <td>2043328</td>\n",
       "      <td>3656795.0</td>\n",
       "      <td>None</td>\n",
       "      <td>79        WEST DRIVE</td>\n",
       "      <td>2017-04-24</td>\n",
       "      <td>NaN</td>\n",
       "      <td>NaN</td>\n",
       "      <td>None</td>\n",
       "      <td>None</td>\n",
       "      <td>1</td>\n",
       "      <td>...</td>\n",
       "      <td>0</td>\n",
       "      <td>0</td>\n",
       "      <td>0</td>\n",
       "      <td>0</td>\n",
       "      <td>0</td>\n",
       "      <td>1</td>\n",
       "      <td>0</td>\n",
       "      <td>Driver Inattention/Distraction</td>\n",
       "      <td>BICYCLE</td>\n",
       "      <td>None</td>\n",
       "    </tr>\n",
       "    <tr>\n",
       "      <th>1</th>\n",
       "      <td>2509642</td>\n",
       "      <td>4124171.0</td>\n",
       "      <td>AVENUE A</td>\n",
       "      <td>None</td>\n",
       "      <td>2019-04-29</td>\n",
       "      <td>40.727844</td>\n",
       "      <td>-73.98223</td>\n",
       "      <td>Manhattan</td>\n",
       "      <td>10009</td>\n",
       "      <td>1</td>\n",
       "      <td>...</td>\n",
       "      <td>0</td>\n",
       "      <td>0</td>\n",
       "      <td>0</td>\n",
       "      <td>0</td>\n",
       "      <td>0</td>\n",
       "      <td>1</td>\n",
       "      <td>0</td>\n",
       "      <td>Alcohol Involvement</td>\n",
       "      <td>Bike</td>\n",
       "      <td>POINT (-73.98223 40.72784)</td>\n",
       "    </tr>\n",
       "    <tr>\n",
       "      <th>2</th>\n",
       "      <td>2413283</td>\n",
       "      <td>4069947.0</td>\n",
       "      <td>6 AVENUE</td>\n",
       "      <td>None</td>\n",
       "      <td>2019-01-27</td>\n",
       "      <td>40.669846</td>\n",
       "      <td>-73.98244</td>\n",
       "      <td>Brooklyn</td>\n",
       "      <td>11215</td>\n",
       "      <td>1</td>\n",
       "      <td>...</td>\n",
       "      <td>0</td>\n",
       "      <td>0</td>\n",
       "      <td>0</td>\n",
       "      <td>0</td>\n",
       "      <td>0</td>\n",
       "      <td>1</td>\n",
       "      <td>0</td>\n",
       "      <td>Unspecified</td>\n",
       "      <td>Bike</td>\n",
       "      <td>POINT (-73.98244 40.66985)</td>\n",
       "    </tr>\n",
       "    <tr>\n",
       "      <th>3</th>\n",
       "      <td>2083437</td>\n",
       "      <td>3703671.0</td>\n",
       "      <td>61 STREET</td>\n",
       "      <td>None</td>\n",
       "      <td>2017-07-02</td>\n",
       "      <td>40.741280</td>\n",
       "      <td>-73.90257</td>\n",
       "      <td>Queens</td>\n",
       "      <td>None</td>\n",
       "      <td>1</td>\n",
       "      <td>...</td>\n",
       "      <td>0</td>\n",
       "      <td>0</td>\n",
       "      <td>0</td>\n",
       "      <td>0</td>\n",
       "      <td>0</td>\n",
       "      <td>1</td>\n",
       "      <td>0</td>\n",
       "      <td>Driver Inattention/Distraction,Driver Inattent...</td>\n",
       "      <td>PASSENGER VEHICLE,BICYCLE</td>\n",
       "      <td>POINT (-73.90257 40.74128)</td>\n",
       "    </tr>\n",
       "    <tr>\n",
       "      <th>4</th>\n",
       "      <td>2449473</td>\n",
       "      <td>4026726.0</td>\n",
       "      <td>WEST 111 STREET</td>\n",
       "      <td>None</td>\n",
       "      <td>2018-11-11</td>\n",
       "      <td>40.801230</td>\n",
       "      <td>-73.95770</td>\n",
       "      <td>Manhattan</td>\n",
       "      <td>10026</td>\n",
       "      <td>1</td>\n",
       "      <td>...</td>\n",
       "      <td>0</td>\n",
       "      <td>0</td>\n",
       "      <td>0</td>\n",
       "      <td>0</td>\n",
       "      <td>0</td>\n",
       "      <td>1</td>\n",
       "      <td>0</td>\n",
       "      <td>Unspecified,Unspecified</td>\n",
       "      <td>Sedan,Bike</td>\n",
       "      <td>POINT (-73.95770 40.80123)</td>\n",
       "    </tr>\n",
       "  </tbody>\n",
       "</table>\n",
       "<p>5 rows × 21 columns</p>\n",
       "</div>"
      ],
      "text/plain": [
       "   cartodb_id  socrata_id       on_street_            cross_stre   date_time  \\\n",
       "0     2043328   3656795.0             None  79        WEST DRIVE  2017-04-24   \n",
       "1     2509642   4124171.0         AVENUE A                  None  2019-04-29   \n",
       "2     2413283   4069947.0         6 AVENUE                  None  2019-01-27   \n",
       "3     2083437   3703671.0        61 STREET                  None  2017-07-02   \n",
       "4     2449473   4026726.0  WEST 111 STREET                  None  2018-11-11   \n",
       "\n",
       "    latitude  longitude    borough zip_code  crash_coun  ...  number_o_1  \\\n",
       "0        NaN        NaN       None     None           1  ...           0   \n",
       "1  40.727844  -73.98223  Manhattan    10009           1  ...           0   \n",
       "2  40.669846  -73.98244   Brooklyn    11215           1  ...           0   \n",
       "3  40.741280  -73.90257     Queens     None           1  ...           0   \n",
       "4  40.801230  -73.95770  Manhattan    10026           1  ...           0   \n",
       "\n",
       "   number_o_2  number_o_3  number_o_4  number_o_5  number_o_6  number_o_7  \\\n",
       "0           0           0           0           0           1           0   \n",
       "1           0           0           0           0           1           0   \n",
       "2           0           0           0           0           1           0   \n",
       "3           0           0           0           0           1           0   \n",
       "4           0           0           0           0           1           0   \n",
       "\n",
       "                                          contributi  \\\n",
       "0                     Driver Inattention/Distraction   \n",
       "1                                Alcohol Involvement   \n",
       "2                                        Unspecified   \n",
       "3  Driver Inattention/Distraction,Driver Inattent...   \n",
       "4                            Unspecified,Unspecified   \n",
       "\n",
       "                  vehicle_ty                    geometry  \n",
       "0                    BICYCLE                        None  \n",
       "1                       Bike  POINT (-73.98223 40.72784)  \n",
       "2                       Bike  POINT (-73.98244 40.66985)  \n",
       "3  PASSENGER VEHICLE,BICYCLE  POINT (-73.90257 40.74128)  \n",
       "4                 Sedan,Bike  POINT (-73.95770 40.80123)  \n",
       "\n",
       "[5 rows x 21 columns]"
      ]
     },
     "execution_count": 6,
     "metadata": {},
     "output_type": "execute_result"
    }
   ],
   "source": [
    "Crash_data_gdf.head()"
   ]
  },
  {
   "cell_type": "code",
   "execution_count": 7,
   "metadata": {},
   "outputs": [
    {
     "name": "stdout",
     "output_type": "stream",
     "text": [
      "<class 'geopandas.geodataframe.GeoDataFrame'>\n",
      "RangeIndex: 38877 entries, 0 to 38876\n",
      "Data columns (total 21 columns):\n",
      " #   Column      Non-Null Count  Dtype   \n",
      "---  ------      --------------  -----   \n",
      " 0   cartodb_id  38877 non-null  int64   \n",
      " 1   socrata_id  38877 non-null  float64 \n",
      " 2   on_street_  33122 non-null  object  \n",
      " 3   cross_stre  19909 non-null  object  \n",
      " 4   date_time   38877 non-null  object  \n",
      " 5   latitude    36346 non-null  float64 \n",
      " 6   longitude   36346 non-null  float64 \n",
      " 7   borough     37245 non-null  object  \n",
      " 8   zip_code    30307 non-null  object  \n",
      " 9   crash_coun  38877 non-null  int64   \n",
      " 10  number_of_  38877 non-null  int64   \n",
      " 11  number_o_1  38877 non-null  int64   \n",
      " 12  number_o_2  38877 non-null  int64   \n",
      " 13  number_o_3  38877 non-null  int64   \n",
      " 14  number_o_4  38877 non-null  int64   \n",
      " 15  number_o_5  38877 non-null  int64   \n",
      " 16  number_o_6  38877 non-null  int64   \n",
      " 17  number_o_7  38877 non-null  int64   \n",
      " 18  contributi  38823 non-null  object  \n",
      " 19  vehicle_ty  38877 non-null  object  \n",
      " 20  geometry    36294 non-null  geometry\n",
      "dtypes: float64(3), geometry(1), int64(10), object(7)\n",
      "memory usage: 6.2+ MB\n"
     ]
    }
   ],
   "source": [
    "Crash_data_gdf.info()"
   ]
  },
  {
   "cell_type": "markdown",
   "metadata": {},
   "source": [
    "# Selecting Manhatten Crashes only"
   ]
  },
  {
   "cell_type": "code",
   "execution_count": 13,
   "metadata": {},
   "outputs": [],
   "source": [
    "Crash_data_Manhatten_gdf = Crash_data_gdf[Crash_data_gdf['borough'] == 'Manhattan']"
   ]
  },
  {
   "cell_type": "code",
   "execution_count": 14,
   "metadata": {},
   "outputs": [
    {
     "data": {
      "text/plain": [
       "(10962, 21)"
      ]
     },
     "execution_count": 14,
     "metadata": {},
     "output_type": "execute_result"
    }
   ],
   "source": [
    "Crash_data_Manhatten_gdf.shape"
   ]
  },
  {
   "cell_type": "markdown",
   "metadata": {},
   "source": [
    "# Selecting only BICYCLE Accidents"
   ]
  },
  {
   "cell_type": "code",
   "execution_count": 16,
   "metadata": {},
   "outputs": [
    {
     "data": {
      "text/plain": [
       "PASSENGER VEHICLE,BICYCLE                                               2301\n",
       "Sedan,Bike                                                              1225\n",
       "TAXI,BICYCLE                                                            1164\n",
       "Station Wagon/Sport Utility Vehicle,Bike                                 914\n",
       "SPORT UTILITY / STATION WAGON,BICYCLE                                    813\n",
       "                                                                        ... \n",
       "LARGE COM VEH(6 OR MORE TIRES),SPORT UTILITY / STATION WAGON,BICYCLE       1\n",
       "ambulance,Bike                                                             1\n",
       "Bus,Bike,PK                                                                1\n",
       "BICYCLE,AR                                                                 1\n",
       "BICYCLE,TK,PASSENGER VEHICLE                                               1\n",
       "Name: vehicle_ty, Length: 274, dtype: int64"
      ]
     },
     "execution_count": 16,
     "metadata": {},
     "output_type": "execute_result"
    }
   ],
   "source": [
    "Crash_data_Manhatten_gdf.vehicle_ty.value_counts()"
   ]
  },
  {
   "cell_type": "code",
   "execution_count": 18,
   "metadata": {},
   "outputs": [],
   "source": [
    "Crash_data_Manhatten_BiCycles_gdf = Crash_data_Manhatten_gdf[Crash_data_Manhatten_gdf['vehicle_ty'].str.contains('BICYCLE')]"
   ]
  },
  {
   "cell_type": "code",
   "execution_count": 19,
   "metadata": {},
   "outputs": [
    {
     "data": {
      "text/plain": [
       "(6603, 21)"
      ]
     },
     "execution_count": 19,
     "metadata": {},
     "output_type": "execute_result"
    }
   ],
   "source": [
    "Crash_data_Manhatten_BiCycles_gdf.shape"
   ]
  },
  {
   "cell_type": "markdown",
   "metadata": {},
   "source": [
    "## Sanity Check - Visualization"
   ]
  },
  {
   "cell_type": "code",
   "execution_count": 23,
   "metadata": {},
   "outputs": [
    {
     "data": {
      "text/plain": [
       "<AxesSubplot:>"
      ]
     },
     "execution_count": 23,
     "metadata": {},
     "output_type": "execute_result"
    },
    {
     "data": {
      "image/png": "[encoded data removed]",
      "text/plain": [
       "<Figure size 1080x1080 with 1 Axes>"
      ]
     },
     "metadata": {
      "needs_background": "light"
     },
     "output_type": "display_data"
    }
   ],
   "source": [
    "fig, ax = plt.subplots(1, 1, figsize=(15, 15))\n",
    "Crash_data_Manhatten_BiCycles_gdf.plot(ax=ax)"
   ]
  },
  {
   "cell_type": "markdown",
   "metadata": {},
   "source": [
    "### Converting date_time column to Day , Month , Year Columns"
   ]
  },
  {
   "cell_type": "code",
   "execution_count": 27,
   "metadata": {},
   "outputs": [
    {
     "name": "stderr",
     "output_type": "stream",
     "text": [
      "/opt/anaconda3/lib/python3.8/site-packages/geopandas/geodataframe.py:1351: SettingWithCopyWarning: \n",
      "A value is trying to be set on a copy of a slice from a DataFrame.\n",
      "Try using .loc[row_indexer,col_indexer] = value instead\n",
      "\n",
      "See the caveats in the documentation: https://pandas.pydata.org/pandas-docs/stable/user_guide/indexing.html#returning-a-view-versus-a-copy\n",
      "  super().__setitem__(key, value)\n"
     ]
    }
   ],
   "source": [
    "#convert to datetime type\n",
    "Crash_data_Manhatten_BiCycles_gdf['date_time'] = pd.to_datetime(Crash_data_Manhatten_BiCycles_gdf['date_time']).dt.date\n",
    "\n",
    "#Split columns\n",
    "Crash_data_Manhatten_BiCycles_gdf['day'] = pd.to_datetime(Crash_data_Manhatten_BiCycles_gdf['date_time']).dt.day\n",
    "Crash_data_Manhatten_BiCycles_gdf['month'] = pd.to_datetime(Crash_data_Manhatten_BiCycles_gdf['date_time']).dt.month\n",
    "Crash_data_Manhatten_BiCycles_gdf['year'] = pd.to_datetime(Crash_data_Manhatten_BiCycles_gdf['date_time']).dt.year\n"
   ]
  },
  {
   "cell_type": "code",
   "execution_count": 29,
   "metadata": {},
   "outputs": [
    {
     "data": {
      "text/plain": [
       "Index(['cartodb_id', 'socrata_id', 'on_street_', 'cross_stre', 'date_time',\n",
       "       'latitude', 'longitude', 'borough', 'zip_code', 'crash_coun',\n",
       "       'number_of_', 'number_o_1', 'number_o_2', 'number_o_3', 'number_o_4',\n",
       "       'number_o_5', 'number_o_6', 'number_o_7', 'contributi', 'vehicle_ty',\n",
       "       'geometry', 'day', 'month', 'year'],\n",
       "      dtype='object')"
      ]
     },
     "execution_count": 29,
     "metadata": {},
     "output_type": "execute_result"
    }
   ],
   "source": [
    "#sanity check\n",
    "Crash_data_Manhatten_BiCycles_gdf.columns"
   ]
  },
  {
   "cell_type": "code",
   "execution_count": 30,
   "metadata": {},
   "outputs": [
    {
     "data": {
      "text/plain": [
       "2017    1354\n",
       "2016    1313\n",
       "2015    1183\n",
       "2014    1179\n",
       "2013    1164\n",
       "2018     410\n",
       "Name: year, dtype: int64"
      ]
     },
     "execution_count": 30,
     "metadata": {},
     "output_type": "execute_result"
    }
   ],
   "source": [
    "Crash_data_Manhatten_BiCycles_gdf.year.value_counts()"
   ]
  },
  {
   "cell_type": "code",
   "execution_count": 31,
   "metadata": {},
   "outputs": [
    {
     "data": {
      "text/html": [
       "<div>\n",
       "<style scoped>\n",
       "    .dataframe tbody tr th:only-of-type {\n",
       "        vertical-align: middle;\n",
       "    }\n",
       "\n",
       "    .dataframe tbody tr th {\n",
       "        vertical-align: top;\n",
       "    }\n",
       "\n",
       "    .dataframe thead th {\n",
       "        text-align: right;\n",
       "    }\n",
       "</style>\n",
       "<table border=\"1\" class=\"dataframe\">\n",
       "  <thead>\n",
       "    <tr style=\"text-align: right;\">\n",
       "      <th></th>\n",
       "      <th>cartodb_id</th>\n",
       "      <th>socrata_id</th>\n",
       "      <th>on_street_</th>\n",
       "      <th>cross_stre</th>\n",
       "      <th>date_time</th>\n",
       "      <th>latitude</th>\n",
       "      <th>longitude</th>\n",
       "      <th>borough</th>\n",
       "      <th>zip_code</th>\n",
       "      <th>crash_coun</th>\n",
       "      <th>...</th>\n",
       "      <th>number_o_4</th>\n",
       "      <th>number_o_5</th>\n",
       "      <th>number_o_6</th>\n",
       "      <th>number_o_7</th>\n",
       "      <th>contributi</th>\n",
       "      <th>vehicle_ty</th>\n",
       "      <th>geometry</th>\n",
       "      <th>day</th>\n",
       "      <th>month</th>\n",
       "      <th>year</th>\n",
       "    </tr>\n",
       "  </thead>\n",
       "  <tbody>\n",
       "    <tr>\n",
       "      <th>7</th>\n",
       "      <td>974858</td>\n",
       "      <td>79679.0</td>\n",
       "      <td>EAST 166 STREET</td>\n",
       "      <td>3 AVENUE</td>\n",
       "      <td>2013-05-13</td>\n",
       "      <td>NaN</td>\n",
       "      <td>NaN</td>\n",
       "      <td>Manhattan</td>\n",
       "      <td>None</td>\n",
       "      <td>1</td>\n",
       "      <td>...</td>\n",
       "      <td>0</td>\n",
       "      <td>0</td>\n",
       "      <td>1</td>\n",
       "      <td>0</td>\n",
       "      <td>Unspecified,Unspecified</td>\n",
       "      <td>UNKNOWN,BICYCLE</td>\n",
       "      <td>None</td>\n",
       "      <td>13</td>\n",
       "      <td>5</td>\n",
       "      <td>2013</td>\n",
       "    </tr>\n",
       "    <tr>\n",
       "      <th>12</th>\n",
       "      <td>1826691</td>\n",
       "      <td>3448652.0</td>\n",
       "      <td>SAINT NICHOLAS AVENUE</td>\n",
       "      <td>WEST 118 STREET</td>\n",
       "      <td>2016-04-22</td>\n",
       "      <td>40.805028</td>\n",
       "      <td>-73.952760</td>\n",
       "      <td>Manhattan</td>\n",
       "      <td>10026</td>\n",
       "      <td>1</td>\n",
       "      <td>...</td>\n",
       "      <td>0</td>\n",
       "      <td>0</td>\n",
       "      <td>1</td>\n",
       "      <td>0</td>\n",
       "      <td>Unspecified,Unspecified</td>\n",
       "      <td>PASSENGER VEHICLE,BICYCLE</td>\n",
       "      <td>POINT (-73.95276 40.80503)</td>\n",
       "      <td>22</td>\n",
       "      <td>4</td>\n",
       "      <td>2016</td>\n",
       "    </tr>\n",
       "    <tr>\n",
       "      <th>17</th>\n",
       "      <td>975484</td>\n",
       "      <td>192749.0</td>\n",
       "      <td>WASHINGTON AVENUE</td>\n",
       "      <td>PARK AVENUE</td>\n",
       "      <td>2013-05-22</td>\n",
       "      <td>NaN</td>\n",
       "      <td>NaN</td>\n",
       "      <td>Manhattan</td>\n",
       "      <td>None</td>\n",
       "      <td>1</td>\n",
       "      <td>...</td>\n",
       "      <td>0</td>\n",
       "      <td>0</td>\n",
       "      <td>1</td>\n",
       "      <td>0</td>\n",
       "      <td>Unspecified,Unspecified</td>\n",
       "      <td>SPORT UTILITY / STATION WAGON,BICYCLE</td>\n",
       "      <td>None</td>\n",
       "      <td>22</td>\n",
       "      <td>5</td>\n",
       "      <td>2013</td>\n",
       "    </tr>\n",
       "    <tr>\n",
       "      <th>35</th>\n",
       "      <td>1124345</td>\n",
       "      <td>3260394.0</td>\n",
       "      <td>WEST 64 STREET</td>\n",
       "      <td>WEST END AVENUE</td>\n",
       "      <td>2015-07-19</td>\n",
       "      <td>40.774735</td>\n",
       "      <td>-73.988176</td>\n",
       "      <td>Manhattan</td>\n",
       "      <td>10023</td>\n",
       "      <td>1</td>\n",
       "      <td>...</td>\n",
       "      <td>0</td>\n",
       "      <td>0</td>\n",
       "      <td>1</td>\n",
       "      <td>0</td>\n",
       "      <td>Unspecified,Unspecified</td>\n",
       "      <td>PASSENGER VEHICLE,BICYCLE</td>\n",
       "      <td>POINT (-73.98818 40.77474)</td>\n",
       "      <td>19</td>\n",
       "      <td>7</td>\n",
       "      <td>2015</td>\n",
       "    </tr>\n",
       "    <tr>\n",
       "      <th>48</th>\n",
       "      <td>2114631</td>\n",
       "      <td>3735348.0</td>\n",
       "      <td>WEST 123 STREET</td>\n",
       "      <td>None</td>\n",
       "      <td>2017-08-19</td>\n",
       "      <td>40.808860</td>\n",
       "      <td>-73.952130</td>\n",
       "      <td>Manhattan</td>\n",
       "      <td>10027</td>\n",
       "      <td>1</td>\n",
       "      <td>...</td>\n",
       "      <td>0</td>\n",
       "      <td>0</td>\n",
       "      <td>1</td>\n",
       "      <td>0</td>\n",
       "      <td>Driver Inattention/Distraction,Unspecified</td>\n",
       "      <td>PASSENGER VEHICLE,BICYCLE</td>\n",
       "      <td>POINT (-73.95213 40.80886)</td>\n",
       "      <td>19</td>\n",
       "      <td>8</td>\n",
       "      <td>2017</td>\n",
       "    </tr>\n",
       "  </tbody>\n",
       "</table>\n",
       "<p>5 rows × 24 columns</p>\n",
       "</div>"
      ],
      "text/plain": [
       "    cartodb_id  socrata_id             on_street_       cross_stre  \\\n",
       "7       974858     79679.0        EAST 166 STREET         3 AVENUE   \n",
       "12     1826691   3448652.0  SAINT NICHOLAS AVENUE  WEST 118 STREET   \n",
       "17      975484    192749.0      WASHINGTON AVENUE      PARK AVENUE   \n",
       "35     1124345   3260394.0         WEST 64 STREET  WEST END AVENUE   \n",
       "48     2114631   3735348.0        WEST 123 STREET             None   \n",
       "\n",
       "     date_time   latitude  longitude    borough zip_code  crash_coun  ...  \\\n",
       "7   2013-05-13        NaN        NaN  Manhattan     None           1  ...   \n",
       "12  2016-04-22  40.805028 -73.952760  Manhattan    10026           1  ...   \n",
       "17  2013-05-22        NaN        NaN  Manhattan     None           1  ...   \n",
       "35  2015-07-19  40.774735 -73.988176  Manhattan    10023           1  ...   \n",
       "48  2017-08-19  40.808860 -73.952130  Manhattan    10027           1  ...   \n",
       "\n",
       "    number_o_4  number_o_5  number_o_6  number_o_7  \\\n",
       "7            0           0           1           0   \n",
       "12           0           0           1           0   \n",
       "17           0           0           1           0   \n",
       "35           0           0           1           0   \n",
       "48           0           0           1           0   \n",
       "\n",
       "                                    contributi  \\\n",
       "7                      Unspecified,Unspecified   \n",
       "12                     Unspecified,Unspecified   \n",
       "17                     Unspecified,Unspecified   \n",
       "35                     Unspecified,Unspecified   \n",
       "48  Driver Inattention/Distraction,Unspecified   \n",
       "\n",
       "                               vehicle_ty                    geometry  day  \\\n",
       "7                         UNKNOWN,BICYCLE                        None   13   \n",
       "12              PASSENGER VEHICLE,BICYCLE  POINT (-73.95276 40.80503)   22   \n",
       "17  SPORT UTILITY / STATION WAGON,BICYCLE                        None   22   \n",
       "35              PASSENGER VEHICLE,BICYCLE  POINT (-73.98818 40.77474)   19   \n",
       "48              PASSENGER VEHICLE,BICYCLE  POINT (-73.95213 40.80886)   19   \n",
       "\n",
       "   month  year  \n",
       "7      5  2013  \n",
       "12     4  2016  \n",
       "17     5  2013  \n",
       "35     7  2015  \n",
       "48     8  2017  \n",
       "\n",
       "[5 rows x 24 columns]"
      ]
     },
     "execution_count": 31,
     "metadata": {},
     "output_type": "execute_result"
    }
   ],
   "source": [
    "Crash_data_Manhatten_BiCycles_gdf.head()"
   ]
  },
  {
   "cell_type": "markdown",
   "metadata": {},
   "source": [
    "# Dropping rows with 'None' Geometry"
   ]
  },
  {
   "cell_type": "code",
   "execution_count": 43,
   "metadata": {},
   "outputs": [
    {
     "name": "stderr",
     "output_type": "stream",
     "text": [
      "/opt/anaconda3/lib/python3.8/site-packages/pandas/core/frame.py:4308: SettingWithCopyWarning: \n",
      "A value is trying to be set on a copy of a slice from a DataFrame\n",
      "\n",
      "See the caveats in the documentation: https://pandas.pydata.org/pandas-docs/stable/user_guide/indexing.html#returning-a-view-versus-a-copy\n",
      "  return super().drop(\n"
     ]
    }
   ],
   "source": [
    "Crash_data_Manhatten_BiCycles_gdf.drop(Crash_data_Manhatten_BiCycles_gdf[Crash_data_Manhatten_BiCycles_gdf.geometry == None].index , inplace=True)"
   ]
  },
  {
   "cell_type": "code",
   "execution_count": 46,
   "metadata": {},
   "outputs": [
    {
     "data": {
      "text/plain": [
       "(6479, 24)"
      ]
     },
     "execution_count": 46,
     "metadata": {},
     "output_type": "execute_result"
    }
   ],
   "source": [
    "Crash_data_Manhatten_BiCycles_gdf.shape"
   ]
  },
  {
   "cell_type": "markdown",
   "metadata": {},
   "source": [
    "# FINAL NYC BICYCLE CRASH DATA - MANHATTAN ONLY"
   ]
  },
  {
   "cell_type": "code",
   "execution_count": 48,
   "metadata": {},
   "outputs": [],
   "source": [
    "Crash_Data_final_gdf = Crash_data_Manhatten_BiCycles_gdf"
   ]
  },
  {
   "cell_type": "markdown",
   "metadata": {},
   "source": [
    "---"
   ]
  },
  {
   "cell_type": "code",
   "execution_count": null,
   "metadata": {},
   "outputs": [],
   "source": []
  }
 ],
 "metadata": {
  "interpreter": {
   "hash": "40d3a090f54c6569ab1632332b64b2c03c39dcf918b08424e98f38b5ae0af88f"
  },
  "kernelspec": {
   "display_name": "Python 3.8.8 ('base')",
   "language": "python",
   "name": "python3"
  },
  "language_info": {
   "codemirror_mode": {
    "name": "ipython",
    "version": 3
   },
   "file_extension": ".py",
   "mimetype": "text/x-python",
   "name": "python",
   "nbconvert_exporter": "python",
   "pygments_lexer": "ipython3",
   "version": "3.8.8"
  },
  "orig_nbformat": 4
 },
 "nbformat": 4,
 "nbformat_minor": 2
}
